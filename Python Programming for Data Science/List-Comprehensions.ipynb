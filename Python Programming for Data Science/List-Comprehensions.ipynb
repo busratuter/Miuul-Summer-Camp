{
 "cells": [
  {
   "cell_type": "markdown",
   "id": "77790acd",
   "metadata": {},
   "source": [
    "List-Comprehensions Exercises"
   ]
  },
  {
   "cell_type": "markdown",
   "id": "6fa196a7",
   "metadata": {},
   "source": [
    "Task 1: Using the list comprehension structure, capitalize the names of the numeric variables in the car_crashes data and append NUM at the beginning."
   ]
  },
  {
   "cell_type": "code",
   "execution_count": 2,
   "id": "18d7661c",
   "metadata": {},
   "outputs": [
    {
     "name": "stdout",
     "output_type": "stream",
     "text": [
      "Index(['total', 'speeding', 'alcohol', 'not_distracted', 'no_previous',\n",
      "       'ins_premium', 'ins_losses', 'abbrev'],\n",
      "      dtype='object')\n"
     ]
    }
   ],
   "source": [
    "import seaborn as sns\n",
    "df = sns.load_dataset(\"car_crashes\")\n",
    "print(df.columns)"
   ]
  },
  {
   "cell_type": "code",
   "execution_count": 3,
   "id": "768a2ffa",
   "metadata": {},
   "outputs": [
    {
     "name": "stdout",
     "output_type": "stream",
     "text": [
      "Index(['NUM_Total', 'NUM_Speeding', 'NUM_Alcohol', 'NUM_Not_distracted',\n",
      "       'NUM_No_previous', 'NUM_Ins_premium', 'NUM_Ins_losses', 'Abbrev'],\n",
      "      dtype='object')\n"
     ]
    }
   ],
   "source": [
    "df.columns = [\"NUM_\"+col.capitalize() if df[col].dtype != \"O\" else col.capitalize() for col in df.columns]\n",
    "print(df.columns)"
   ]
  },
  {
   "cell_type": "markdown",
   "id": "52934d62",
   "metadata": {},
   "source": [
    "Task 2: Using the List Comprehension structure, the \"FLAG\" store is added to the end of the names of the variables that do not contain \"number\" in their names in the car_crashes data."
   ]
  },
  {
   "cell_type": "code",
   "execution_count": 4,
   "id": "dbacdbd0",
   "metadata": {},
   "outputs": [],
   "source": [
    "import seaborn as sns\n",
    "df = sns.load_dataset(\"car_crashes\")"
   ]
  },
  {
   "cell_type": "code",
   "execution_count": 5,
   "id": "b71a3934",
   "metadata": {},
   "outputs": [
    {
     "data": {
      "text/plain": [
       "['TOTAL_FLAG',\n",
       " 'SPEEDING_FLAG',\n",
       " 'ALCOHOL_FLAG',\n",
       " 'NOT_DISTRACTED',\n",
       " 'NO_PREVIOUS',\n",
       " 'INS_PREMIUM_FLAG',\n",
       " 'INS_LOSSES_FLAG',\n",
       " 'ABBREV_FLAG']"
      ]
     },
     "execution_count": 5,
     "metadata": {},
     "output_type": "execute_result"
    }
   ],
   "source": [
    "[col.upper()+\"_FLAG\" if \"no\" not in col else col.upper() for col in df.columns]"
   ]
  },
  {
   "cell_type": "markdown",
   "id": "13bb2e39",
   "metadata": {},
   "source": [
    "Task 3: Using List Comprehension structure, select the names of the variables that are different from the variable names given below and create a new dataframe."
   ]
  },
  {
   "cell_type": "code",
   "execution_count": 6,
   "id": "084345ae",
   "metadata": {},
   "outputs": [],
   "source": [
    "import seaborn as sns\n",
    "df = sns.load_dataset(\"car_crashes\")\n",
    "og_list = ['abbrev','no_previous']"
   ]
  },
  {
   "cell_type": "code",
   "execution_count": null,
   "id": "72888775",
   "metadata": {},
   "outputs": [],
   "source": [
    "new_cols = [col for col in df.columns if col not in og_list]\n",
    "print(new_cols)"
   ]
  }
 ],
 "metadata": {
  "kernelspec": {
   "display_name": "Python 3 (ipykernel)",
   "language": "python",
   "name": "python3"
  },
  "language_info": {
   "codemirror_mode": {
    "name": "ipython",
    "version": 3
   },
   "file_extension": ".py",
   "mimetype": "text/x-python",
   "name": "python",
   "nbconvert_exporter": "python",
   "pygments_lexer": "ipython3",
   "version": "3.10.9"
  }
 },
 "nbformat": 4,
 "nbformat_minor": 5
}
