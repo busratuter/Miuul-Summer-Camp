{
 "cells": [
  {
   "cell_type": "markdown",
   "id": "bde9fa71-f9f8-4c1f-b82a-b1476dabcbab",
   "metadata": {},
   "source": [
    "Python Exercises"
   ]
  },
  {
   "cell_type": "markdown",
   "id": "39ecac11-f637-43c1-a314-e7b02743cf89",
   "metadata": {},
   "source": [
    "Task 1: Examine the data structures of the given values.\n",
    "Use the type() method."
   ]
  },
  {
   "cell_type": "code",
   "execution_count": 15,
   "id": "ae7674bc-0358-47de-9f21-a7af9db3e0f0",
   "metadata": {},
   "outputs": [],
   "source": [
    "x = 8\n",
    "y = 3.2\n",
    "z = 8j+18\n",
    "a = \"Hello world\"\n",
    "b = True\n",
    "c = 23 < 22\n",
    "l = [1, 2, 3, 4]\n",
    "d = {\"Name\": \"Jake\",\n",
    "     \"Age\": 27,\n",
    "     \"Adress\": \"Downtown\"}\n",
    "t = (\"Machine Learning\", \"Data Science\")\n",
    "s = {\"Python\", \"Machine Learning\", \"Data Science\"}"
   ]
  },
  {
   "cell_type": "code",
   "execution_count": 16,
   "id": "15849beb-6d69-4731-8377-3550f473fc7a",
   "metadata": {},
   "outputs": [
    {
     "name": "stdout",
     "output_type": "stream",
     "text": [
      "<class 'int'>\n",
      "<class 'float'>\n",
      "<class 'complex'>\n",
      "<class 'str'>\n",
      "<class 'bool'>\n",
      "<class 'bool'>\n",
      "<class 'list'>\n",
      "<class 'dict'>\n",
      "<class 'tuple'>\n",
      "<class 'set'>\n"
     ]
    }
   ],
   "source": [
    "print(type(x))\n",
    "print(type(y))\n",
    "print(type(z))\n",
    "print(type(a))\n",
    "print(type(b))\n",
    "print(type(c))\n",
    "print(type(l))\n",
    "print(type(d))\n",
    "print(type(t))\n",
    "print(type(s))"
   ]
  },
  {
   "cell_type": "markdown",
   "id": "bec5a55e-72f0-4511-a397-dfe4fb80e3d1",
   "metadata": {},
   "source": [
    "Task 2: Capitalize all letters of the given string expression. Replace comma and period with space and separate word by word."
   ]
  },
  {
   "cell_type": "code",
   "execution_count": 1,
   "id": "acd7a814-156e-4f88-a5bd-fc4e75ca64b6",
   "metadata": {},
   "outputs": [],
   "source": [
    "text = \"The goal is to turn data into information, and information into insight. \""
   ]
  },
  {
   "cell_type": "code",
   "execution_count": 5,
   "id": "36298361-daa3-4782-b602-dd5775deab8a",
   "metadata": {},
   "outputs": [
    {
     "name": "stdout",
     "output_type": "stream",
     "text": [
      "['THE', 'GOAL', 'IS', 'TO', 'TURN', 'DATA', 'INTO', 'INFORMATION', 'AND', 'INFORMATION', 'INTO', 'INSIGHT']\n"
     ]
    }
   ],
   "source": [
    "text= text.upper().replace(\",\", \" \").replace(\".\", \" \").split()\n",
    "print(text)"
   ]
  },
  {
   "cell_type": "markdown",
   "id": "93bbe2e9",
   "metadata": {},
   "source": [
    "Task 3: Follow the steps below to the given list.\n",
    "\n",
    "Step1: See the number of items in the given list.\n",
    "\n",
    "Step2: Call the first and tenth index elements\n",
    "\n",
    "Step3: Create a [\"D\", \"A\", \"T\", \"A\"] list from the given list.\n",
    "\n",
    "Step4: Delete the element in the eighth index.\n",
    "\n",
    "Step5: Add a new element.\n",
    "\n",
    "Step6: Repeat the \"N\" element in the eighth index."
   ]
  },
  {
   "cell_type": "code",
   "execution_count": 8,
   "id": "0b910f21",
   "metadata": {},
   "outputs": [],
   "source": [
    "lst = ['D', 'A', 'T', 'A', 'S', 'C', 'I', 'E', 'N', 'C', 'E'] # given list"
   ]
  },
  {
   "cell_type": "code",
   "execution_count": 11,
   "id": "c554913e",
   "metadata": {},
   "outputs": [
    {
     "name": "stdout",
     "output_type": "stream",
     "text": [
      "11\n"
     ]
    }
   ],
   "source": [
    "print(len(lst))"
   ]
  },
  {
   "cell_type": "code",
   "execution_count": 13,
   "id": "0aa4d1b1",
   "metadata": {},
   "outputs": [
    {
     "name": "stdout",
     "output_type": "stream",
     "text": [
      "D\n",
      "E\n"
     ]
    }
   ],
   "source": [
    "print(lst[0])\n",
    "print(lst[10])"
   ]
  },
  {
   "cell_type": "code",
   "execution_count": 15,
   "id": "e6c25d0a",
   "metadata": {},
   "outputs": [
    {
     "name": "stdout",
     "output_type": "stream",
     "text": [
      "['D', 'A', 'T', 'A']\n"
     ]
    }
   ],
   "source": [
    "new_lst = lst[:4]\n",
    "print(new_lst)"
   ]
  },
  {
   "cell_type": "code",
   "execution_count": 16,
   "id": "650b0737",
   "metadata": {},
   "outputs": [
    {
     "name": "stdout",
     "output_type": "stream",
     "text": [
      "['D', 'A', 'T', 'A', 'S', 'C', 'I', 'E', 'C', 'E']\n"
     ]
    }
   ],
   "source": [
    "lst.pop(8)\n",
    "print(lst)"
   ]
  },
  {
   "cell_type": "code",
   "execution_count": 17,
   "id": "44f1bf67",
   "metadata": {},
   "outputs": [
    {
     "name": "stdout",
     "output_type": "stream",
     "text": [
      "['D', 'A', 'T', 'A', 'S', 'C', 'I', 'E', 'C', 'E', 'E']\n"
     ]
    }
   ],
   "source": [
    "lst.append(\"E\")\n",
    "print(lst)"
   ]
  },
  {
   "cell_type": "code",
   "execution_count": 24,
   "id": "01ca889d",
   "metadata": {},
   "outputs": [
    {
     "name": "stdout",
     "output_type": "stream",
     "text": [
      "['D', 'A', 'T', 'A', 'S', 'C', 'I', 'N', 'N', 'C', 'E', 'E']\n"
     ]
    }
   ],
   "source": [
    "lst.insert(7,\"N\")\n",
    "print(lst)"
   ]
  },
  {
   "cell_type": "markdown",
   "id": "df09fa32",
   "metadata": {},
   "source": [
    "Task 4: Apply the following steps to the given dictionary structure.\n",
    "\n",
    "Step1: Access the key values.\n",
    "\n",
    "Step2: Access the values.\n",
    "\n",
    "Step3: Update the value of 12 of the Daisy key to 13.\n",
    "\n",
    "Step4: Add a new value whose key value is Ahmet value [Turkey,24].\n",
    "\n",
    "Step5: Delete Antonio from the dictionary."
   ]
  },
  {
   "cell_type": "code",
   "execution_count": 25,
   "id": "c0a679e5",
   "metadata": {},
   "outputs": [],
   "source": [
    "dictionary = {'Christian':[\"America\",18],\n",
    "    'Daisy':[\"England\",12],\n",
    "    'Antonio':['Spain',22],\n",
    "    'Dante':['Italy',25]} "
   ]
  },
  {
   "cell_type": "code",
   "execution_count": 26,
   "id": "102064cf",
   "metadata": {},
   "outputs": [
    {
     "data": {
      "text/plain": [
       "dict_keys(['Christian', 'Daisy', 'Antonio', 'Dante'])"
      ]
     },
     "execution_count": 26,
     "metadata": {},
     "output_type": "execute_result"
    }
   ],
   "source": [
    "dictionary.keys()"
   ]
  },
  {
   "cell_type": "code",
   "execution_count": 27,
   "id": "51bd9fec",
   "metadata": {},
   "outputs": [
    {
     "data": {
      "text/plain": [
       "dict_values([['America', 18], ['England', 12], ['Spain', 22], ['Italy', 25]])"
      ]
     },
     "execution_count": 27,
     "metadata": {},
     "output_type": "execute_result"
    }
   ],
   "source": [
    "dictionary.values()"
   ]
  },
  {
   "cell_type": "code",
   "execution_count": 28,
   "id": "17f59856",
   "metadata": {},
   "outputs": [
    {
     "name": "stdout",
     "output_type": "stream",
     "text": [
      "['England', 13]\n"
     ]
    }
   ],
   "source": [
    "dictionary['Daisy'][1] = 13\n",
    "print(dictionary['Daisy'])"
   ]
  },
  {
   "cell_type": "code",
   "execution_count": 29,
   "id": "13f2f2b7",
   "metadata": {},
   "outputs": [
    {
     "name": "stdout",
     "output_type": "stream",
     "text": [
      "['Turkey', 24]\n"
     ]
    }
   ],
   "source": [
    "dictionary['Ahmet'] = ['Turkey',24]\n",
    "print(dictionary['Ahmet'])"
   ]
  },
  {
   "cell_type": "code",
   "execution_count": 30,
   "id": "ed2e27df",
   "metadata": {},
   "outputs": [
    {
     "name": "stdout",
     "output_type": "stream",
     "text": [
      "dict_keys(['Christian', 'Daisy', 'Dante', 'Ahmet'])\n"
     ]
    }
   ],
   "source": [
    "dictionary.pop('Antonio')\n",
    "print(dictionary.keys())"
   ]
  },
  {
   "cell_type": "markdown",
   "id": "36a40850",
   "metadata": {},
   "source": [
    "Task 5: Take a list as an argument, write a function that assigns the odd and even numbers in the list to separate lists, and returns the findlists.\n",
    "\n",
    "You have to access the list elements one by one.\n",
    "\n",
    "You can use the % structure to check whether each element is even or odd."
   ]
  },
  {
   "cell_type": "code",
   "execution_count": 20,
   "id": "7936ee52",
   "metadata": {},
   "outputs": [],
   "source": [
    "l = [2, 13, 18, 93, 22]\n",
    "even_list = []\n",
    "odd_list = []\n",
    "\n",
    "\n",
    "def list_seperator(l):\n",
    "    for i in l:\n",
    "        if i % 2 == 0:\n",
    "            even_list.append(i)\n",
    "        else: \n",
    "            odd_list.append(i)\n",
    "    return even_list, odd_list\n",
    "\n",
    "even_list, odd_list = list_seperator(l)"
   ]
  },
  {
   "cell_type": "code",
   "execution_count": 21,
   "id": "44402466",
   "metadata": {},
   "outputs": [
    {
     "name": "stdout",
     "output_type": "stream",
     "text": [
      "Even list: [2, 18, 22]\n",
      "Odd list: [13, 93]\n"
     ]
    }
   ],
   "source": [
    "print(\"Even list:\",even_list)\n",
    "print(\"Odd list:\",odd_list)"
   ]
  },
  {
   "cell_type": "markdown",
   "id": "309549a1",
   "metadata": {},
   "source": [
    "Task 6: In the list given below, there are the names of the students who entered the degree in engineering and medicine. Respectively, the first three students represent the order of success of the engineering faculty, while the last three students belong to the order of the medical faculty. Print student degrees by faculty using enumarate"
   ]
  },
  {
   "cell_type": "code",
   "execution_count": 22,
   "id": "a7cfeffb",
   "metadata": {},
   "outputs": [],
   "source": [
    "ogrenciler = [\"Ali\", \"Veli\", \"Ayşe\", \"Talat\", \"Zeynep\", \"Ece\"]"
   ]
  },
  {
   "cell_type": "code",
   "execution_count": 23,
   "id": "3bca76ca",
   "metadata": {},
   "outputs": [
    {
     "name": "stdout",
     "output_type": "stream",
     "text": [
      "Engineering faculty 1 . Student: Ali\n",
      "Engineering faculty 2 . Student: Veli\n",
      "Engineering faculty 3 . Student: Ayşe\n",
      "Medicine faculty 1 . Student: Talat\n",
      "Medicine faculty 2 . Student: Zeynep\n",
      "Medicine faculty 3 . Student: Ece\n"
     ]
    }
   ],
   "source": [
    "for index, ogrenciler in enumerate(ogrenciler):\n",
    "    if index <= 2:\n",
    "        print(f\"Engineering faculty {index+1} . Student: {ogrenciler}\")\n",
    "    else:\n",
    "        print(f\"Medicine faculty {index-2} . Student: {ogrenciler}\")"
   ]
  },
  {
   "cell_type": "markdown",
   "id": "25b19a1c",
   "metadata": {},
   "source": [
    "Task 7: Three lists are given below. In the lists, there is a rank code, credit and quota information in order. Print course information using zip."
   ]
  },
  {
   "cell_type": "code",
   "execution_count": 24,
   "id": "ef8ccb4e",
   "metadata": {},
   "outputs": [],
   "source": [
    "ders_kodu = ['CMP1005','PSY1001','HUK1005','SEN2204']\n",
    "kredi = [3,4,2,4]\n",
    "kontenjan = [30,75,150,25]"
   ]
  },
  {
   "cell_type": "code",
   "execution_count": 27,
   "id": "aad3d4e7",
   "metadata": {},
   "outputs": [],
   "source": [
    "info = list(zip(ders_kodu,kredi,kontenjan))"
   ]
  },
  {
   "cell_type": "code",
   "execution_count": 28,
   "id": "08b23707",
   "metadata": {},
   "outputs": [
    {
     "name": "stdout",
     "output_type": "stream",
     "text": [
      "[('CMP1005', 3, 30), ('PSY1001', 4, 75), ('HUK1005', 2, 150), ('SEN2204', 4, 25)]\n"
     ]
    }
   ],
   "source": [
    "print(info) "
   ]
  },
  {
   "cell_type": "markdown",
   "id": "414a742e",
   "metadata": {},
   "source": [
    "Task 8: Below 2 sets are given. You are expected to define the function that will print the common elements of set 1 if it covers set 2 and the difference of set 2 from set 1 if it does not."
   ]
  },
  {
   "cell_type": "code",
   "execution_count": 29,
   "id": "c03e6ede",
   "metadata": {},
   "outputs": [],
   "source": [
    "set1 = set(['data','python'])\n",
    "set2 = set(['data','function','qcut','lambda','python','miuul'])"
   ]
  },
  {
   "cell_type": "code",
   "execution_count": 30,
   "id": "8864f22e",
   "metadata": {},
   "outputs": [
    {
     "name": "stdout",
     "output_type": "stream",
     "text": [
      "{'miuul', 'qcut', 'lambda', 'function'}\n"
     ]
    }
   ],
   "source": [
    "if set1.issuperset(set2):\n",
    "    print(set1.intersection(set2))\n",
    "    \n",
    "else:\n",
    "    print(set2.difference(set1))"
   ]
  },
  {
   "cell_type": "code",
   "execution_count": null,
   "id": "ac826b07",
   "metadata": {},
   "outputs": [],
   "source": []
  }
 ],
 "metadata": {
  "kernelspec": {
   "display_name": "Python 3 (ipykernel)",
   "language": "python",
   "name": "python3"
  },
  "language_info": {
   "codemirror_mode": {
    "name": "ipython",
    "version": 3
   },
   "file_extension": ".py",
   "mimetype": "text/x-python",
   "name": "python",
   "nbconvert_exporter": "python",
   "pygments_lexer": "ipython3",
   "version": "3.10.9"
  }
 },
 "nbformat": 4,
 "nbformat_minor": 5
}
